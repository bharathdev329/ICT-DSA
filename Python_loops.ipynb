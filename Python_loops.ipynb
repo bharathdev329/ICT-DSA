{
  "nbformat": 4,
  "nbformat_minor": 0,
  "metadata": {
    "colab": {
      "provenance": [],
      "authorship_tag": "ABX9TyPWGB800omzsNNbNNVB47MN",
      "include_colab_link": true
    },
    "kernelspec": {
      "name": "python3",
      "display_name": "Python 3"
    },
    "language_info": {
      "name": "python"
    }
  },
  "cells": [
    {
      "cell_type": "markdown",
      "metadata": {
        "id": "view-in-github",
        "colab_type": "text"
      },
      "source": [
        "<a href=\"https://colab.research.google.com/github/bharathdev329/ICT-DSA/blob/main/Python_loops.ipynb\" target=\"_parent\"><img src=\"https://colab.research.google.com/assets/colab-badge.svg\" alt=\"Open In Colab\"/></a>"
      ]
    },
    {
      "cell_type": "code",
      "execution_count": 1,
      "metadata": {
        "id": "TfXwk_Cf69FZ"
      },
      "outputs": [],
      "source": [
        "import numpy as np\n",
        "import pandas as pd\n",
        "import matplotlib.pyplot as plt\n",
        "import seaborn as sns"
      ]
    },
    {
      "cell_type": "markdown",
      "source": [
        "1. Take input of age of 3 people by user and determine oldest and\n",
        "youngest among them"
      ],
      "metadata": {
        "id": "790oSd2Z7yYC"
      }
    },
    {
      "cell_type": "code",
      "source": [
        "a1=int(input(\"enter first age\"))\n",
        "a2=int(input(\"enter second age\"))\n",
        "a3=int(input(\"enter third age\"))\n",
        "\n",
        "for i in range(a1,a2,a3):\n",
        "    if a1>a2 and a1>a3:\n",
        "        print(a1,\"is oldest\")\n",
        "    elif a2>a1 and a2>a3:\n",
        "        print(a2,\"is oldest\")\n",
        "    else:\n",
        "        print(a3,\"is oldest\")"
      ],
      "metadata": {
        "colab": {
          "base_uri": "https://localhost:8080/"
        },
        "id": "G5D4TEAw7KMg",
        "outputId": "8f001703-76d9-461f-e8f3-d67d4c833964"
      },
      "execution_count": 3,
      "outputs": [
        {
          "output_type": "stream",
          "name": "stdout",
          "text": [
            "enter first age1\n",
            "enter second age2\n",
            "enter third age3\n",
            "3 is oldest\n"
          ]
        }
      ]
    },
    {
      "cell_type": "markdown",
      "source": [
        "2. Write a program that asks the user for their exam score and\n",
        "calculates their grade based on the following conditions:\n",
        "a. A score of 90 or above is an A.\n",
        "b. A score between 80 and 89 is a B.\n",
        "c. A score between 70 and 79 is a C.\n",
        "d. A score below 70 is an F."
      ],
      "metadata": {
        "id": "91LE6vgZ7zyZ"
      }
    },
    {
      "cell_type": "code",
      "source": [
        "m=int(input(\"enter your marks\"))\n",
        "\n",
        "if m>=90:\n",
        "    print(\"A\")\n",
        "elif m>=80 and m<=89:\n",
        "    print(\"B\")\n",
        "elif m>=70 and m<=79:\n",
        "    print(\"C\")\n",
        "else:\n",
        "  print('F')"
      ],
      "metadata": {
        "colab": {
          "base_uri": "https://localhost:8080/"
        },
        "id": "RqRgQBpQ7fOt",
        "outputId": "36cc1faa-e538-4ca2-a0bd-e303eeab1bbe"
      },
      "execution_count": 5,
      "outputs": [
        {
          "output_type": "stream",
          "name": "stdout",
          "text": [
            "enter your marks50\n",
            "F\n"
          ]
        }
      ]
    },
    {
      "cell_type": "markdown",
      "source": [
        "3. Create a program that asks the user for a list of grocery items they\n",
        "need to buy and organizes the list alphabetically."
      ],
      "metadata": {
        "id": "XWltrKOi8Ts9"
      }
    },
    {
      "cell_type": "code",
      "source": [
        "# Get grocery items from the user\n",
        "items = []\n",
        "while True:\n",
        "    item = input(\"Enter a grocery item (or 'done' to finish): \")\n",
        "    if item.lower() == 'done':\n",
        "        break\n",
        "    items.append(item)\n",
        "\n",
        "# Sort the items alphabetically\n",
        "items.sort()\n",
        "\n",
        "# Print the sorted list\n",
        "print(\"Your grocery list:\")\n",
        "for item in items:\n",
        "    print(\"- \" + item)"
      ],
      "metadata": {
        "colab": {
          "base_uri": "https://localhost:8080/"
        },
        "id": "A2zUJ3zK7_K_",
        "outputId": "dc4f2f7a-d69c-48c3-e7c3-0e8676e7f695"
      },
      "execution_count": 8,
      "outputs": [
        {
          "output_type": "stream",
          "name": "stdout",
          "text": [
            "Enter a grocery item (or 'done' to finish): milk\n",
            "Enter a grocery item (or 'done' to finish): fish\n",
            "Enter a grocery item (or 'done' to finish): done\n",
            "Your grocery list:\n",
            "- fish\n",
            "- milk\n"
          ]
        }
      ]
    },
    {
      "cell_type": "markdown",
      "source": [
        "4. Write a program that asks the user for an email address and\n",
        "checks if it is valid (contains an \"@\" symbol and a valid domain)"
      ],
      "metadata": {
        "id": "5edmDw1B9BGp"
      }
    },
    {
      "cell_type": "code",
      "source": [],
      "metadata": {
        "id": "pvHMpELW-UhM"
      },
      "execution_count": null,
      "outputs": []
    },
    {
      "cell_type": "code",
      "source": [
        "def is_valid_email(email):\n",
        "  if '@' in email and '.' in email and 'com' in email and email.index('@') < email.index('.') < email.index('com'):\n",
        "    return True\n",
        "  else:\n",
        "    return False\n",
        "    return False\n",
        "\n",
        "email=input(\"enter your email\")\n",
        "\n",
        "if is_valid_email(email):\n",
        "  print(\"valid email\")\n",
        "else:\n",
        "  print(\"invalid email\")"
      ],
      "metadata": {
        "colab": {
          "base_uri": "https://localhost:8080/"
        },
        "id": "kD9U7UTS9Dby",
        "outputId": "5c39460e-4f60-414d-d438-8cc2aab4ee52"
      },
      "execution_count": 11,
      "outputs": [
        {
          "output_type": "stream",
          "name": "stdout",
          "text": [
            "enter your emailasas.@com\n",
            "invalid email\n"
          ]
        }
      ]
    },
    {
      "cell_type": "markdown",
      "source": [
        "5. Create a program that asks the user for the number of days they\n",
        "have delayed returning a library book. If the delay is less than or\n",
        "equal to 7 days, there is no fine. If the delay is between 8 and 30\n",
        "days, apply a fine of 2 rupees per day. If the delay is more than\n",
        "30 days, apply a fine of 5 rupees per day. Print the total fine\n",
        "amount"
      ],
      "metadata": {
        "id": "un0xkdm5-gbD"
      }
    },
    {
      "cell_type": "code",
      "source": [
        "def calculate_fine(delay):\n",
        "    if delay <= 7:\n",
        "        return 0\n",
        "    elif 8 <= delay <= 30:\n",
        "        return 2 * delay\n",
        "    else:\n",
        "        return 5 * delay\n",
        "\n",
        "delay = int(input(\"Enter the number of days the book is delayed: \"))\n",
        "fine = calculate_fine(delay)\n",
        "print(\"The total fine amount is:\", fine)"
      ],
      "metadata": {
        "colab": {
          "base_uri": "https://localhost:8080/"
        },
        "id": "lXkad0Yz-cQJ",
        "outputId": "85304fc9-a8f6-43fe-853e-e3d567560f99"
      },
      "execution_count": 13,
      "outputs": [
        {
          "output_type": "stream",
          "name": "stdout",
          "text": [
            "Enter the number of days the book is delayed: 60\n",
            "The total fine amount is: 300\n"
          ]
        }
      ]
    },
    {
      "cell_type": "markdown",
      "source": [
        "6. Write a program that checks if a given character is a vowel. Use\n",
        "the in operator to check if the character is present in a string of\n",
        "vowels (\"aeiou\")."
      ],
      "metadata": {
        "id": "nxHjByt5_FZt"
      }
    },
    {
      "cell_type": "code",
      "source": [
        "def is_vowel(char):\n",
        "    vowels = \"aeiou\"\n",
        "    if char in vowels:\n",
        "        return True\n",
        "    else:\n",
        "        return False\n",
        "\n",
        "char = input(\"Enter a character: \")\n",
        "if is_vowel(char):\n",
        "    print(\"The character is a vowel.\")\n",
        "else:\n",
        "    print(\"The character is not a vowel.\")"
      ],
      "metadata": {
        "colab": {
          "base_uri": "https://localhost:8080/"
        },
        "id": "yVKjDnx6-2HM",
        "outputId": "32fd134b-2f75-40e9-f976-de4434e1804b"
      },
      "execution_count": 15,
      "outputs": [
        {
          "output_type": "stream",
          "name": "stdout",
          "text": [
            "Enter a character: b\n",
            "The character is not a vowel.\n"
          ]
        }
      ]
    },
    {
      "cell_type": "markdown",
      "source": [
        "7. Implement a program that calculates the factorial of a number\n",
        "using a loop.\n"
      ],
      "metadata": {
        "id": "NkB3A0bN_k5_"
      }
    },
    {
      "cell_type": "code",
      "source": [
        "def factorial(n):\n",
        "    if n<0:\n",
        "        return \"factorial is not defined for negative numbers\"\n",
        "    elif n==0:\n",
        "        return 1\n",
        "    else:\n",
        "        fact=1\n",
        "        for i in range(1,n+1):\n",
        "            fact*=i\n",
        "        return fact\n",
        "\n",
        "n=int(input(\"enter a number\"))\n",
        "print(factorial(n))"
      ],
      "metadata": {
        "colab": {
          "base_uri": "https://localhost:8080/"
        },
        "id": "VBRz38kM_nYF",
        "outputId": "1d98c96b-504b-4a9f-dfe2-0aaa8de4c1d8"
      },
      "execution_count": 18,
      "outputs": [
        {
          "output_type": "stream",
          "name": "stdout",
          "text": [
            "enter a number4\n",
            "24\n"
          ]
        }
      ]
    },
    {
      "cell_type": "markdown",
      "source": [
        "8. Generate the Fibonacci sequence (0, 1, 1, 2, 3, ...) up to a certain limit using a loop"
      ],
      "metadata": {
        "id": "ebb9QZHQBFJh"
      }
    },
    {
      "cell_type": "code",
      "source": [
        "def fibonacci(f):\n",
        "  if f<0:\n",
        "    print('Invalid choice')\n",
        "  elif f==0:\n",
        "    return 0\n",
        "  elif f==1:\n",
        "    return 1\n",
        "  else:\n",
        "   n=[0,1]\n",
        "   for i in range(2,f+1):\n",
        "    n.append(n[i-1]+n[i-2])\n",
        "   return n\n",
        "\n",
        "f=int(input(\"enter a limit\"))\n",
        "print(fibonacci(f))"
      ],
      "metadata": {
        "colab": {
          "base_uri": "https://localhost:8080/"
        },
        "id": "I0YR2GI9AxiE",
        "outputId": "16c9772b-44ef-4223-cb23-ccd017b6a614"
      },
      "execution_count": 4,
      "outputs": [
        {
          "output_type": "stream",
          "name": "stdout",
          "text": [
            "enter a limit4\n",
            "[0, 1, 1, 2, 3]\n"
          ]
        }
      ]
    },
    {
      "cell_type": "markdown",
      "source": [
        "9. Create a number guessing game where the computer generates a\n",
        "random number and the user has to guess it within a certain\n",
        "number of attempts using a loop."
      ],
      "metadata": {
        "id": "ZHAOZhUAEuuv"
      }
    },
    {
      "cell_type": "code",
      "source": [
        "import random\n",
        "\n",
        "def number_guessing_game():\n",
        "  \"\"\"Plays a number guessing game with the user.\"\"\"\n",
        "\n",
        "  secret_number = random.randint(1, 100)  # Generate a random number between 1 and 100\n",
        "  attempts_allowed = 7  # Set the number of attempts allowed\n",
        "\n",
        "  print(\"Welcome to the Number Guessing Game!\")\n",
        "  print(\"I'm thinking of a number between 1 and 100.\")\n",
        "\n",
        "  for attempt in range(1, attempts_allowed + 1):\n",
        "    try:\n",
        "      guess = int(input(f\"Attempt {attempt}: Enter your guess: \"))\n",
        "    except ValueError:\n",
        "      print(\"Invalid input. Please enter a number.\")\n",
        "      continue  # Go to the next attempt\n",
        "\n",
        "    if guess < secret_number:\n",
        "      print(\"Too low!\")\n",
        "    elif guess > secret_number:\n",
        "      print(\"Too high!\")\n",
        "    else:\n",
        "      print(f\"Congratulations! You guessed the number in {attempt} attempts.\")\n",
        "      return  # End the game\n",
        "\n",
        "  print(f\"Sorry, you ran out of attempts. The number was {secret_number}.\")\n",
        "\n",
        "if __name__ == \"__main__\":\n",
        "  number_guessing_game()"
      ],
      "metadata": {
        "colab": {
          "base_uri": "https://localhost:8080/"
        },
        "id": "fsJEFD8iC05R",
        "outputId": "29f07401-1e77-42ef-e312-1c22573d1ba6"
      },
      "execution_count": 5,
      "outputs": [
        {
          "output_type": "stream",
          "name": "stdout",
          "text": [
            "Welcome to the Number Guessing Game!\n",
            "I'm thinking of a number between 1 and 100.\n",
            "Attempt 1: Enter your guess: 50\n",
            "Too high!\n",
            "Attempt 2: Enter your guess: 30\n",
            "Too high!\n",
            "Attempt 3: Enter your guess: 10\n",
            "Too high!\n",
            "Attempt 4: Enter your guess: 5\n",
            "Too high!\n",
            "Attempt 5: Enter your guess: 1\n",
            "Too low!\n",
            "Attempt 6: Enter your guess: 2\n",
            "Congratulations! You guessed the number in 6 attempts.\n"
          ]
        }
      ]
    },
    {
      "cell_type": "markdown",
      "source": [
        "10. Write a menu driven calculator with following menu:\n",
        "a. Addition\n",
        "b. Subtraction\n",
        "c. Division\n",
        "d. Multiplication\n",
        "e. Exit"
      ],
      "metadata": {
        "id": "4nc56LHHFqEc"
      }
    },
    {
      "cell_type": "code",
      "source": [
        "def add(x, y):\n",
        "  \"\"\"Returns the sum of two numbers.\"\"\"\n",
        "  return x + y\n",
        "\n",
        "def subtract(x, y):\n",
        "  \"\"\"Returns the difference between two numbers.\"\"\"\n",
        "  return x - y\n",
        "\n",
        "def multiply(x, y):\n",
        "  \"\"\"Returns the product of two numbers.\"\"\"\n",
        "  return x * y\n",
        "\n",
        "def divide(x, y):\n",
        "  \"\"\"Returns the quotient of two numbers. Handles division by zero.\"\"\"\n",
        "  if y == 0:\n",
        "    return \"Division by zero error!\"\n",
        "  else:\n",
        "    return x / y\n",
        "\n",
        "def calculator():\n",
        "  \"\"\"Runs the menu-driven calculator.\"\"\"\n",
        "\n",
        "  while True:\n",
        "    print(\"\\nCalculator Menu:\")\n",
        "    print(\"a. Addition\")\n",
        "    print(\"b. Subtraction\")\n",
        "    print(\"c. Division\")\n",
        "    print(\"d. Multiplication\")\n",
        "    print(\"e. Exit\")\n",
        "\n",
        "    choice = input(\"Enter your choice (a-e): \").lower()\n",
        "\n",
        "    if choice in ('a', 'b', 'c', 'd'):\n",
        "      try:\n",
        "        num1 = float(input(\"Enter first number: \"))\n",
        "        num2 = float(input(\"Enter second number: \"))\n",
        "      except ValueError:\n",
        "        print(\"Invalid input. Please enter numbers only.\")\n",
        "        continue\n",
        "\n",
        "      if choice == 'a':\n",
        "        result = add(num1, num2)\n",
        "      elif choice == 'b':\n",
        "        result = subtract(num1, num2)\n",
        "      elif choice == 'c':\n",
        "        result = divide(num1, num2)\n",
        "      elif choice == 'd':\n",
        "        result = multiply(num1, num2)\n",
        "\n",
        "      print(f\"Result: {result}\")\n",
        "\n",
        "    elif choice == 'e':\n",
        "      print(\"Exiting calculator...\")\n",
        "      break  # Exit the loop\n",
        "\n",
        "    else:\n",
        "      print(\"Invalid choice. Please try again.\")\n",
        "\n",
        "if __name__ == \"__main__\":\n",
        "  calculator()"
      ],
      "metadata": {
        "colab": {
          "base_uri": "https://localhost:8080/"
        },
        "id": "Sf9Vm7xVFMA7",
        "outputId": "cc7b744a-f639-492a-a098-ffe7e89c55b2"
      },
      "execution_count": 6,
      "outputs": [
        {
          "output_type": "stream",
          "name": "stdout",
          "text": [
            "\n",
            "Calculator Menu:\n",
            "a. Addition\n",
            "b. Subtraction\n",
            "c. Division\n",
            "d. Multiplication\n",
            "e. Exit\n",
            "Enter your choice (a-e): a\n",
            "Enter first number: 3\n",
            "Enter second number: 5\n",
            "Result: 8.0\n",
            "\n",
            "Calculator Menu:\n",
            "a. Addition\n",
            "b. Subtraction\n",
            "c. Division\n",
            "d. Multiplication\n",
            "e. Exit\n",
            "Enter your choice (a-e): e\n",
            "Exiting calculator...\n"
          ]
        }
      ]
    }
  ]
}