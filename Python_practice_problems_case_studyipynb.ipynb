{
  "nbformat": 4,
  "nbformat_minor": 0,
  "metadata": {
    "colab": {
      "provenance": [],
      "authorship_tag": "ABX9TyOaWWg9ZrbnYRnG0htqsb78",
      "include_colab_link": true
    },
    "kernelspec": {
      "name": "python3",
      "display_name": "Python 3"
    },
    "language_info": {
      "name": "python"
    }
  },
  "cells": [
    {
      "cell_type": "markdown",
      "metadata": {
        "id": "view-in-github",
        "colab_type": "text"
      },
      "source": [
        "<a href=\"https://colab.research.google.com/github/bharathdev329/ICT-DSA/blob/main/Python_practice_problems_case_studyipynb.ipynb\" target=\"_parent\"><img src=\"https://colab.research.google.com/assets/colab-badge.svg\" alt=\"Open In Colab\"/></a>"
      ]
    },
    {
      "cell_type": "code",
      "execution_count": null,
      "metadata": {
        "id": "P3jJYL_E877c"
      },
      "outputs": [],
      "source": []
    },
    {
      "cell_type": "markdown",
      "source": [
        "Q1"
      ],
      "metadata": {
        "id": "fXnErzaq9MIz"
      }
    },
    {
      "cell_type": "code",
      "source": [
        "r=int(input('enter radius: '))\n",
        "pi=3.14\n",
        "area=pi*r*r\n",
        "print('area of circle is: ',area)"
      ],
      "metadata": {
        "colab": {
          "base_uri": "https://localhost:8080/"
        },
        "id": "kgmsEawd9OVE",
        "outputId": "848211c1-fca1-4f14-a6b8-07e50a3bacca"
      },
      "execution_count": null,
      "outputs": [
        {
          "output_type": "stream",
          "name": "stdout",
          "text": [
            "enter radius: 5\n",
            "area of circle is:  78.5\n"
          ]
        }
      ]
    },
    {
      "cell_type": "markdown",
      "source": [
        "Q2"
      ],
      "metadata": {
        "id": "PCg7Kx6g9dAM"
      }
    },
    {
      "cell_type": "code",
      "source": [
        "name=input('enter name: ')\n",
        "roll_no=int(input('enter roll no: '))\n",
        "mark=int(input('enter mark: '))\n",
        "print('name: ',name)\n",
        "print('roll no: ',roll_no)\n",
        "print('mark: ',mark)"
      ],
      "metadata": {
        "colab": {
          "base_uri": "https://localhost:8080/"
        },
        "id": "RC051htx9Xah",
        "outputId": "4ffd0b09-da87-4d4f-b8c4-14748c754e5f"
      },
      "execution_count": null,
      "outputs": [
        {
          "output_type": "stream",
          "name": "stdout",
          "text": [
            "enter name: John\n",
            "enter roll no: 12\n",
            "enter mark: 33\n",
            "name:  John\n",
            "roll no:  12\n",
            "mark:  33\n"
          ]
        }
      ]
    },
    {
      "cell_type": "markdown",
      "source": [
        "Q3"
      ],
      "metadata": {
        "id": "jdpKWiFO92km"
      }
    },
    {
      "cell_type": "code",
      "source": [
        "def largest_number(numbers):\n",
        "    if not numbers:\n",
        "        return None\n",
        "    largest = numbers[0]\n",
        "    for number in numbers:\n",
        "        if number > largest:\n",
        "            largest = number\n",
        "    return largest\n",
        "\n",
        "numbers = [12, 3, 47, 10]\n",
        "print(largest_number(numbers),\"is the largest number\")\n"
      ],
      "metadata": {
        "colab": {
          "base_uri": "https://localhost:8080/"
        },
        "id": "LZRkifMf9wT6",
        "outputId": "009d8256-6080-47ab-87a2-94cd87a5862c"
      },
      "execution_count": null,
      "outputs": [
        {
          "output_type": "stream",
          "name": "stdout",
          "text": [
            "47 is the largest number\n"
          ]
        }
      ]
    },
    {
      "cell_type": "markdown",
      "source": [
        "Q4"
      ],
      "metadata": {
        "id": "n1U8GJVW-fMr"
      }
    },
    {
      "cell_type": "code",
      "source": [
        "number = range(10)\n",
        "previous_number = 0\n",
        "for i in number:\n",
        "    sum = previous_number + i\n",
        "    print(\"Current Number\",i,\"Previous Number\",previous_number,\"Sum:\",sum)\n",
        "    previous_number = i\n"
      ],
      "metadata": {
        "colab": {
          "base_uri": "https://localhost:8080/"
        },
        "id": "ryJgGUpw-d4e",
        "outputId": "bbc9f330-d818-4157-8eb0-4f358aad3480"
      },
      "execution_count": null,
      "outputs": [
        {
          "output_type": "stream",
          "name": "stdout",
          "text": [
            "Current Number 0 Previous Number 0 Sum: 0\n",
            "Current Number 1 Previous Number 0 Sum: 1\n",
            "Current Number 2 Previous Number 1 Sum: 3\n",
            "Current Number 3 Previous Number 2 Sum: 5\n",
            "Current Number 4 Previous Number 3 Sum: 7\n",
            "Current Number 5 Previous Number 4 Sum: 9\n",
            "Current Number 6 Previous Number 5 Sum: 11\n",
            "Current Number 7 Previous Number 6 Sum: 13\n",
            "Current Number 8 Previous Number 7 Sum: 15\n",
            "Current Number 9 Previous Number 8 Sum: 17\n"
          ]
        }
      ]
    },
    {
      "cell_type": "markdown",
      "source": [
        "Q5"
      ],
      "metadata": {
        "id": "QZSmreYO_SDY"
      }
    },
    {
      "cell_type": "code",
      "source": [
        "f=10,44,66,55,50,77,8\n",
        "for i in f:\n",
        "  if i%5==0:\n",
        "    print(i)"
      ],
      "metadata": {
        "colab": {
          "base_uri": "https://localhost:8080/"
        },
        "id": "Tv8xsJ9w-wxS",
        "outputId": "542bb6fd-85fa-495d-cae3-f659bc9d371e"
      },
      "execution_count": null,
      "outputs": [
        {
          "output_type": "stream",
          "name": "stdout",
          "text": [
            "10\n",
            "55\n",
            "50\n"
          ]
        }
      ]
    },
    {
      "cell_type": "markdown",
      "source": [
        "Q6"
      ],
      "metadata": {
        "id": "qGFHdODa_UkZ"
      }
    },
    {
      "cell_type": "code",
      "source": [
        "num = int(input(\"Enter a number: \"))\n",
        "if num > 1:\n",
        "    for i in range(2, (num//2)+1):\n",
        "        if (num % i) == 0:\n",
        "            print(num, \"is not a prime number\")\n",
        "            break\n",
        "    else:\n",
        "        print(num, \"is a prime number\")\n",
        "else:\n",
        "    print(num, \"is not a prime number\")"
      ],
      "metadata": {
        "colab": {
          "base_uri": "https://localhost:8080/"
        },
        "id": "ywOufslh_MsV",
        "outputId": "6c9e3ba8-3a11-484f-972f-abb18a9c41f5"
      },
      "execution_count": null,
      "outputs": [
        {
          "output_type": "stream",
          "name": "stdout",
          "text": [
            "Enter a number: 10\n",
            "10 is not a prime number\n"
          ]
        }
      ]
    },
    {
      "cell_type": "markdown",
      "source": [
        "Q7"
      ],
      "metadata": {
        "id": "wT8nJo9x_oja"
      }
    },
    {
      "cell_type": "code",
      "source": [
        "num = [10,40,30,70 ]\n",
        "reverse_num = []\n",
        "for i in num:\n",
        "    reverse_num.insert(0,i)\n",
        "print(reverse_num)\n",
        "\n"
      ],
      "metadata": {
        "colab": {
          "base_uri": "https://localhost:8080/"
        },
        "id": "ZGvkE9hq_kLO",
        "outputId": "eaadc544-cdac-4850-a4a3-e54a564231e7"
      },
      "execution_count": null,
      "outputs": [
        {
          "output_type": "stream",
          "name": "stdout",
          "text": [
            "[70, 30, 40, 10]\n"
          ]
        }
      ]
    },
    {
      "cell_type": "markdown",
      "source": [
        "Q8"
      ],
      "metadata": {
        "id": "fQ_rZFvIAFmu"
      }
    },
    {
      "cell_type": "code",
      "source": [
        "n = 4\n",
        "for i in range(1, n + 1):\n",
        "    print('*' * i)"
      ],
      "metadata": {
        "colab": {
          "base_uri": "https://localhost:8080/"
        },
        "id": "2mr9jySwADHx",
        "outputId": "c56f974a-596c-41d3-c9b8-5d2097dc82d6"
      },
      "execution_count": null,
      "outputs": [
        {
          "output_type": "stream",
          "name": "stdout",
          "text": [
            "*\n",
            "**\n",
            "***\n",
            "****\n"
          ]
        }
      ]
    },
    {
      "cell_type": "code",
      "source": [
        "num = [34,12,7]\n",
        "max_num = num[0]\n",
        "for i in num:\n",
        "    if i > max_num:\n",
        "        max_num = i\n",
        "print(max_num)\n"
      ],
      "metadata": {
        "colab": {
          "base_uri": "https://localhost:8080/"
        },
        "id": "xJn5PSzDAK2F",
        "outputId": "54ae221b-e919-4726-eb25-ba9b726e5bcd"
      },
      "execution_count": null,
      "outputs": [
        {
          "output_type": "stream",
          "name": "stdout",
          "text": [
            "34\n"
          ]
        }
      ]
    },
    {
      "cell_type": "markdown",
      "source": [
        "Q10"
      ],
      "metadata": {
        "id": "QHdr5Cr7Ah86"
      }
    },
    {
      "cell_type": "code",
      "source": [
        "s=5\n",
        "for i in range(1,n+1):\n",
        "  print('*'*i)\n",
        "for i in range (n-1,0,-1):\n",
        "  print('*'*i)"
      ],
      "metadata": {
        "colab": {
          "base_uri": "https://localhost:8080/"
        },
        "id": "LiiC2GtDAgk8",
        "outputId": "623105ae-3a40-484c-cbaf-67243432e45f"
      },
      "execution_count": null,
      "outputs": [
        {
          "output_type": "stream",
          "name": "stdout",
          "text": [
            "*\n",
            "**\n",
            "***\n",
            "****\n",
            "***\n",
            "**\n",
            "*\n"
          ]
        }
      ]
    },
    {
      "cell_type": "code",
      "source": [],
      "metadata": {
        "id": "ygHvjmNuAyCG"
      },
      "execution_count": null,
      "outputs": []
    }
  ]
}