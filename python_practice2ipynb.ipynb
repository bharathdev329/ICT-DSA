{
  "nbformat": 4,
  "nbformat_minor": 0,
  "metadata": {
    "colab": {
      "provenance": [],
      "authorship_tag": "ABX9TyO9HnUUTTOUAJ12hj81waXu",
      "include_colab_link": true
    },
    "kernelspec": {
      "name": "python3",
      "display_name": "Python 3"
    },
    "language_info": {
      "name": "python"
    }
  },
  "cells": [
    {
      "cell_type": "markdown",
      "metadata": {
        "id": "view-in-github",
        "colab_type": "text"
      },
      "source": [
        "<a href=\"https://colab.research.google.com/github/bharathdev329/ICT-DSA/blob/main/python_practice2ipynb.ipynb\" target=\"_parent\"><img src=\"https://colab.research.google.com/assets/colab-badge.svg\" alt=\"Open In Colab\"/></a>"
      ]
    },
    {
      "cell_type": "markdown",
      "source": [
        "Q1"
      ],
      "metadata": {
        "id": "38AU6q46TZ3U"
      }
    },
    {
      "cell_type": "code",
      "source": [
        "string = input(\"Enter a string: \")\n",
        "char_count = {}\n",
        "for char in string:\n",
        "  if char in char_count:\n",
        "    char_count[char] += 1\n",
        "  else:\n",
        "    char_count[char] = 1\n",
        "print(\"Count of each character in the string:\")\n",
        "for char, count in char_count.items():\n",
        "  print(char, \":\", count)\n"
      ],
      "metadata": {
        "colab": {
          "base_uri": "https://localhost:8080/"
        },
        "id": "pKUeZ9XeTb7b",
        "outputId": "6881a5c3-8261-4dfe-ccc0-7e495b5e9127"
      },
      "execution_count": 2,
      "outputs": [
        {
          "output_type": "stream",
          "name": "stdout",
          "text": [
            "Enter a string: abc\n",
            "Count of each character in the string:\n",
            "a : 1\n",
            "b : 1\n",
            "c : 1\n"
          ]
        }
      ]
    },
    {
      "cell_type": "markdown",
      "source": [
        "Q2"
      ],
      "metadata": {
        "id": "OtR1S4dTTpFO"
      }
    },
    {
      "cell_type": "code",
      "source": [
        "def find_maximum(a, b, c):\n",
        "  return max(a, b, c)\n",
        "\n",
        "# Example usage:\n",
        "num1 = 34\n",
        "num2 = 12\n",
        "num3 = 7\n",
        "maximum = find_maximum(num1, num2, num3)\n",
        "print(\"The maximum number is:\", maximum)"
      ],
      "metadata": {
        "colab": {
          "base_uri": "https://localhost:8080/"
        },
        "id": "WSY9OP1QTktC",
        "outputId": "db19d8d3-2acb-4584-8bdd-3e35b82387a6"
      },
      "execution_count": 3,
      "outputs": [
        {
          "output_type": "stream",
          "name": "stdout",
          "text": [
            "The maximum number is: 34\n"
          ]
        }
      ]
    },
    {
      "cell_type": "markdown",
      "source": [
        "Q3"
      ],
      "metadata": {
        "id": "o5mNB1smTwOe"
      }
    },
    {
      "cell_type": "code",
      "source": [
        "def exponent(base, exp):\n",
        "  return base ** exp\n",
        "\n",
        "base_number = 2\n",
        "exponent_value = 3\n",
        "result = exponent(base_number, exponent_value)\n",
        "print(base_number, \"raised to the power of\", exponent_value, \"is:\", result)\n"
      ],
      "metadata": {
        "colab": {
          "base_uri": "https://localhost:8080/"
        },
        "id": "P69hYf7kTurr",
        "outputId": "45ef6bf2-0ab1-4e96-8294-d6dba4c14a51"
      },
      "execution_count": 4,
      "outputs": [
        {
          "output_type": "stream",
          "name": "stdout",
          "text": [
            "2 raised to the power of 3 is: 8\n"
          ]
        }
      ]
    },
    {
      "cell_type": "markdown",
      "source": [
        "Q4"
      ],
      "metadata": {
        "id": "DpMQ8LdVT16H"
      }
    },
    {
      "cell_type": "code",
      "source": [
        "def sum_of_cubes(n):\n",
        "  sum = 0\n",
        "  for i in range(1, n):\n",
        "    sum += i ** 3\n",
        "  return sum\n",
        "\n",
        "number = 4\n",
        "result = sum_of_cubes(number)\n",
        "print(\"Sum of cubes of numbers smaller than\", number, \"is:\", result)\n"
      ],
      "metadata": {
        "colab": {
          "base_uri": "https://localhost:8080/"
        },
        "id": "_xVXvOQdT0qn",
        "outputId": "0b689740-f73c-4d16-9885-36ffd4faf088"
      },
      "execution_count": 5,
      "outputs": [
        {
          "output_type": "stream",
          "name": "stdout",
          "text": [
            "Sum of cubes of numbers smaller than 4 is: 36\n"
          ]
        }
      ]
    },
    {
      "cell_type": "markdown",
      "source": [
        "Q5"
      ],
      "metadata": {
        "id": "PI2g6wZiT74Y"
      }
    },
    {
      "cell_type": "code",
      "source": [
        "for i in range(1, 11):\n",
        "  if i % 2 == 0 and i % 5 == 0:\n",
        "    print(\"FizzBuzz\")\n",
        "  elif i % 2 == 0:\n",
        "    print(\"Fizz\")\n",
        "  elif i % 5 == 0:\n",
        "    print(\"Buzz\")\n",
        "  else:\n",
        "    print(i)"
      ],
      "metadata": {
        "colab": {
          "base_uri": "https://localhost:8080/"
        },
        "id": "vW6fHWxVT6uB",
        "outputId": "052fdd73-8057-4874-8621-72e181c2de31"
      },
      "execution_count": 6,
      "outputs": [
        {
          "output_type": "stream",
          "name": "stdout",
          "text": [
            "1\n",
            "Fizz\n",
            "3\n",
            "Fizz\n",
            "Buzz\n",
            "Fizz\n",
            "7\n",
            "Fizz\n",
            "9\n",
            "FizzBuzz\n"
          ]
        }
      ]
    },
    {
      "cell_type": "markdown",
      "source": [
        "Q6"
      ],
      "metadata": {
        "id": "UMiwIyB5UCk4"
      }
    },
    {
      "cell_type": "code",
      "source": [
        "from collections import Counter\n",
        "\n",
        "def most_frequent(numbers):\n",
        "  count = Counter(numbers)\n",
        "  return count.most_common(1)[0][0]\n",
        "\n",
        "numbers = [1, 2, 3, 2, 4, 2, 5, 1, 2]\n",
        "most_frequent_number = most_frequent(numbers)\n",
        "print(\"The most frequent number is:\", most_frequent_number)"
      ],
      "metadata": {
        "colab": {
          "base_uri": "https://localhost:8080/"
        },
        "id": "Lybs3svHUArU",
        "outputId": "98cb6601-70c8-4391-8108-afa8937d1eba"
      },
      "execution_count": 7,
      "outputs": [
        {
          "output_type": "stream",
          "name": "stdout",
          "text": [
            "The most frequent number is: 2\n"
          ]
        }
      ]
    },
    {
      "cell_type": "markdown",
      "source": [
        "Q7"
      ],
      "metadata": {
        "id": "ieyaq85SUIZ6"
      }
    },
    {
      "cell_type": "code",
      "source": [
        "def sum_of_squares(numbers):\n",
        "  sum = 0\n",
        "  for number in numbers:\n",
        "    sum += number ** 2\n",
        "  return sum\n",
        "\n",
        "numbers = [2,1,3,1]\n",
        "result = sum_of_squares(numbers)\n",
        "print(\"The sum of squares is:\", result)"
      ],
      "metadata": {
        "colab": {
          "base_uri": "https://localhost:8080/"
        },
        "id": "EMD4ph_pUG6e",
        "outputId": "16f4e30a-d6f1-4050-be66-c5cb60f7289a"
      },
      "execution_count": 9,
      "outputs": [
        {
          "output_type": "stream",
          "name": "stdout",
          "text": [
            "The sum of squares is: 15\n"
          ]
        }
      ]
    },
    {
      "cell_type": "markdown",
      "source": [
        "Q8"
      ],
      "metadata": {
        "id": "lFPJf542UQly"
      }
    },
    {
      "cell_type": "code",
      "source": [
        "for i in range(1, 16):\n",
        "  if i % 2 == 0:\n",
        "    print(i, \"is even\")\n",
        "  else:\n",
        "    print(i, \"is odd\")\n"
      ],
      "metadata": {
        "colab": {
          "base_uri": "https://localhost:8080/"
        },
        "id": "wNmvOiWIUMiQ",
        "outputId": "165bbcfc-cd8d-492f-bb0e-23aabab4e38a"
      },
      "execution_count": 10,
      "outputs": [
        {
          "output_type": "stream",
          "name": "stdout",
          "text": [
            "1 is odd\n",
            "2 is even\n",
            "3 is odd\n",
            "4 is even\n",
            "5 is odd\n",
            "6 is even\n",
            "7 is odd\n",
            "8 is even\n",
            "9 is odd\n",
            "10 is even\n",
            "11 is odd\n",
            "12 is even\n",
            "13 is odd\n",
            "14 is even\n",
            "15 is odd\n"
          ]
        }
      ]
    },
    {
      "cell_type": "markdown",
      "source": [
        "Q9"
      ],
      "metadata": {
        "id": "llO3ru0QUXvT"
      }
    },
    {
      "cell_type": "code",
      "source": [
        "def celsius_to_fahrenheit(celsius):\n",
        "  fahrenheit = (celsius * 9/5) + 32\n",
        "  return fahrenheit\n",
        "\n",
        "def fahrenheit_to_celsius(fahrenheit):\n",
        "  celsius = (fahrenheit - 32) * 5/9\n",
        "  return celsius\n",
        "\n",
        "celsius = 5\n",
        "fahrenheit = celsius_to_fahrenheit(celsius)\n",
        "print(\"Temperature in Fahrenheit:\", fahrenheit)\n",
        "\n",
        "fahrenheit = 41\n",
        "celsius = fahrenheit_to_celsius(fahrenheit)\n",
        "print(\"Temperature in celsius\",celsius)\n"
      ],
      "metadata": {
        "colab": {
          "base_uri": "https://localhost:8080/"
        },
        "id": "SY4-ItkIUVaX",
        "outputId": "9fdfdfc7-6065-4e2d-e423-22fb9c52a0aa"
      },
      "execution_count": 12,
      "outputs": [
        {
          "output_type": "stream",
          "name": "stdout",
          "text": [
            "Temperature in Fahrenheit: 41.0\n",
            "Temperature in celsius 5.0\n"
          ]
        }
      ]
    },
    {
      "cell_type": "markdown",
      "source": [
        "Q10"
      ],
      "metadata": {
        "id": "lRx5jbebUlak"
      }
    },
    {
      "cell_type": "code",
      "source": [
        "def factorial(n):\n",
        "  if n == 0:\n",
        "    return 1\n",
        "  else:\n",
        "    return n * factorial(n - 1)\n",
        "\n",
        "number = 3\n",
        "result = factorial(number)\n",
        "print(\"The factorial of\", number, \"is:\", result)\n",
        "\n"
      ],
      "metadata": {
        "colab": {
          "base_uri": "https://localhost:8080/"
        },
        "id": "EhDtVLxNUgnH",
        "outputId": "22f246c4-b1cd-4ee5-d082-6d18bcb52e6a"
      },
      "execution_count": 13,
      "outputs": [
        {
          "output_type": "stream",
          "name": "stdout",
          "text": [
            "The factorial of 3 is: 6\n"
          ]
        }
      ]
    },
    {
      "cell_type": "code",
      "source": [],
      "metadata": {
        "id": "hQbpvTDBUplj"
      },
      "execution_count": null,
      "outputs": []
    }
  ]
}